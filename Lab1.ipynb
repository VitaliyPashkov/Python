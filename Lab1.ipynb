{
 "cells": [
  {
   "cell_type": "code",
   "execution_count": 4,
   "id": "4ea7e59b",
   "metadata": {},
   "outputs": [
    {
     "name": "stdout",
     "output_type": "stream",
     "text": [
      "Введите вещественное число: \n",
      "12.5\n",
      "12 руб. 50 коп.\n"
     ]
    }
   ],
   "source": [
    "#-------------------------------------------TASK 1-------------------------------------------------------------#\n",
    "x = input(\"Введите вещественное число: \\n\")\n",
    "\n",
    "try:\n",
    "    float(x) # проверка на ввод вещественного числа\n",
    "except ValueError:\n",
    "    print(\"Некорректный формат!\") # если не число - ошибка\n",
    "    exit() # выход из программы\n",
    "else:\n",
    "    if float(x) < 0: # проверка на отрицательность\n",
    "        print(\"Некорректный формат!\")\n",
    "        exit()\n",
    "\n",
    "x = round(float(x), 2)  #округление до двух знаков после запятой\n",
    "print(f'{int(x)} руб. {int(x % 1 * 100)} коп.') # вывод по заданию\n",
    "\n"
   ]
  },
  {
   "cell_type": "code",
   "execution_count": 13,
   "id": "8bb2b21f",
   "metadata": {},
   "outputs": [
    {
     "name": "stdout",
     "output_type": "stream",
     "text": [
      "True\n"
     ]
    }
   ],
   "source": [
    "#-------------------------------------------TASK 2-------------------------------------------------------------#\n",
    "arr = [1, 4, 5, 7, 7, 8, 9]\n",
    "\n",
    "for i in range(1, len(arr)):\n",
    "    if arr[i] < arr[i - 1]: # если этот элемент списка меньше предыдущего - условие задачи нарушено\n",
    "        print(False)\n",
    "        exit()\n",
    "print(True)\n"
   ]
  },
  {
   "cell_type": "code",
   "execution_count": 1,
   "id": "8bb6910b",
   "metadata": {},
   "outputs": [
    {
     "name": "stdout",
     "output_type": "stream",
     "text": [
      "6703 **** **** 5485\n"
     ]
    }
   ],
   "source": [
    "#-------------------------------------------TASK 3-------------------------------------------------------------#\n",
    "#card = input(\"Введите данные карты (без пробелов):\\n\")\n",
    "card = '6703218640075485'\n",
    "try:\n",
    "    int(card) # проверка на ввод числа\n",
    "except ValueError:\n",
    "    print(\"Ошибка ввода.\") # если не число - ошибка и завершение программы\n",
    "    exit()\n",
    "else:\n",
    "    if len(card) != 16:\n",
    "        print(\"Ошибка ввода\")\n",
    "        exit()\n",
    "\n",
    "card = list(card) # разбиение номера карты по символам\n",
    "\n",
    "for i in range(len(card)):\n",
    "    if i > 3 and i < 12: \n",
    "        card[i] = '*' # скрытие цифр номера карты, кроме начальных и последних\n",
    "card.insert(4, ' ') # вывод с пробелами\n",
    "card.insert(9, ' ') \n",
    "card.insert(14, ' ')\n",
    "\n",
    "\n",
    "print(''.join(card))"
   ]
  },
  {
   "cell_type": "code",
   "execution_count": 2,
   "id": "f4b6577f",
   "metadata": {},
   "outputs": [
    {
     "name": "stdout",
     "output_type": "stream",
     "text": [
      "Введите текст:g dfhfd hdhdhd g dfg\n",
      "dfhfd hdhdhd g g dfg "
     ]
    }
   ],
   "source": [
    "#-------------------------------------------TASK 4-------------------------------------------------------------#\n",
    "text = input('Введите текст:')\n",
    "words = text.split(' ')\n",
    "\n",
    "for word in words: # проход по списку и вывод слов длиной больше 7\n",
    "    if len(word) > 7: \n",
    "        print(word, end=' ')\n",
    "\n",
    "for word in words: # проход по списку и вывод слов длиной от 4 до 7\n",
    "    if len(word) >= 4 and len(word) <= 7:\n",
    "        print(word, end=' ')\n",
    "\n",
    "for word in words: # проход по списку и вывод слов длиной меньше 4\n",
    "    if len(word) < 4:\n",
    "        print(word, end=' ')\n"
   ]
  },
  {
   "cell_type": "code",
   "execution_count": 3,
   "id": "5f238285",
   "metadata": {},
   "outputs": [
    {
     "name": "stdout",
     "output_type": "stream",
     "text": [
      "город ДОНЕЦК, река КАЛЬМИУС\n"
     ]
    }
   ],
   "source": [
    "#-------------------------------------------TASK 5-------------------------------------------------------------#\n",
    "#str = input(\"Введите текст:\\n\")\n",
    "\n",
    "str = 'город Донецк, река Кальмиус'\n",
    "\n",
    "str = str.replace(',', ', ') # замена знаков с запятой на пробел для дальнейшего разбиения по символам\n",
    "str = str.replace('  ', ' ')\n",
    "words = str.split(' ')\n",
    "\n",
    "for i in range(len(words)):\n",
    "    if words[i][0].isupper(): # если слово начинается с большой буквы\n",
    "        words[i] = words[i].upper() # то сделать всё слово большими буквами\n",
    "\n",
    "print(*words)"
   ]
  },
  {
   "cell_type": "code",
   "execution_count": 1,
   "id": "28dbda99",
   "metadata": {},
   "outputs": [
    {
     "name": "stdout",
     "output_type": "stream",
     "text": [
      "Введите текст:\n",
      "dg htr hnty\n",
      "d g r n y "
     ]
    }
   ],
   "source": [
    "#-------------------------------------------TASK 6-------------------------------------------------------------#\n",
    "str = list(input(\"Введите текст:\\n\")) # ввод текста и преобразование в список\n",
    "\n",
    "for s in str:\n",
    "    if str.count(s) == 1: # если количество символов s в str равно одному, то выводим на экран\n",
    "        print(s, end=' ')\n",
    "\n"
   ]
  },
  {
   "cell_type": "code",
   "execution_count": 4,
   "id": "c8e0114b",
   "metadata": {},
   "outputs": [
    {
     "name": "stdout",
     "output_type": "stream",
     "text": [
      "['http://www.vk.com', 'http://www.google.com']\n"
     ]
    }
   ],
   "source": [
    "#-------------------------------------------TASK 7-------------------------------------------------------------#\n",
    "urls = ['www.vk', 'mail.ru', 'www.google.com']\n",
    "\n",
    "edited_urls = ['http://' + url + '.com' if url[-4::] != '.com' else 'http://' + url for url in urls if url[:3] == 'www']\n",
    "print(edited_urls) #mail.ru не будет обработан, т.к. не удовлетворяет условию"
   ]
  },
  {
   "cell_type": "code",
   "execution_count": 16,
   "id": "01874a5f",
   "metadata": {},
   "outputs": [
    {
     "name": "stdout",
     "output_type": "stream",
     "text": [
      "4096\n"
     ]
    }
   ],
   "source": [
    "#-------------------------------------------TASK 8-------------------------------------------------------------#\n",
    "import random\n",
    "\n",
    "n = random.randint(1, 10000) # генерация случайного числа от 1 до 10000\n",
    "\n",
    "rand_list = [random.randint(1, 10000) for i in range(n)] # заполнение списка длины n случайными числами\n",
    "two_in_degree = 1 \n",
    "\n",
    "while two_in_degree < len(rand_list): # определяем ближайшую степень двойки\n",
    "    two_in_degree *= 2\n",
    "\n",
    "while len(rand_list) < two_in_degree: # заполнение нулями до границы\n",
    "    rand_list.append(0)\n",
    "\n",
    "print(len(rand_list))"
   ]
  },
  {
   "cell_type": "code",
   "execution_count": 2,
   "id": "71b91200",
   "metadata": {},
   "outputs": [
    {
     "name": "stdout",
     "output_type": "stream",
     "text": [
      "Запрашиваемая сумма:\n",
      "5370\n",
      "1*5000 + 3*100 + 1*50 + 2*10 \n"
     ]
    }
   ],
   "source": [
    "#-------------------------------------------TASK 9-------------------------------------------------------------#\n",
    "bank = {\n",
    "    '5000': 1,\n",
    "    '1000': 6,\n",
    "    '500': 3,\n",
    "    '100': 5,\n",
    "    '50': 7,\n",
    "    '10': 6\n",
    "    \n",
    "} # словарь - показатель количества купюр в банкомате\n",
    "\n",
    "all_money = 0\n",
    "for key, value in bank.items():\n",
    "    all_money += value * int(key) # подсчет общей суммы денег в банке\n",
    "\n",
    "request = int(input(\"Запрашиваемая сумма:\\n\")) \n",
    "\n",
    "if (request > all_money): # проверка на достаточность денег\n",
    "    print(\"Операция не может быть выполнена!\")\n",
    "else:\n",
    "    for key, value in bank.items(): # обход словаря и выдача денег по наличию\n",
    "        if int(key) < request:\n",
    "            if (value >= request // int(key)):\n",
    "                print(f'{request // int(key)}*{key} + ', end='')\n",
    "                request -= request // int(key) * int(key)\n",
    "            else: \n",
    "                print(f'{value}*{key} + ', end='')\n",
    "                request -= request // int(key) * value\n",
    "\n",
    "    print('\\b\\b')"
   ]
  },
  {
   "cell_type": "code",
   "execution_count": 5,
   "id": "5dbe1d0e",
   "metadata": {},
   "outputs": [
    {
     "name": "stdout",
     "output_type": "stream",
     "text": [
      "Введите пароль:\n",
      "g78fe24G7\n",
      "отличный\n"
     ]
    }
   ],
   "source": [
    "#-------------------------------------------TASK 10-------------------------------------------------------------#\n",
    "password = input('Введите пароль:\\n')\n",
    "\n",
    "symbols = ['!', '#', '@', '$', '.', '*', '%']\n",
    "\n",
    "pass_symbols = list(password)\n",
    "rate = 1 if len(password) >= 6 else 0 # заведение переменной-рейтинга пароля\n",
    "digit_is_checked = upper_is_checked = symbols_is_checked = lower_is_checked = False\n",
    "for symbol in pass_symbols: \n",
    "    if symbol.isdigit() and digit_is_checked is False: # проверка на вхождение в пароль цифр, символов и т.д.\n",
    "        rate += 1\n",
    "        digit_is_checked = True\n",
    "    if symbol.isupper() and upper_is_checked is False:\n",
    "        rate += 1\n",
    "        upper_is_checked = True\n",
    "    if symbol.islower() and lower_is_checked is False:\n",
    "        rate += 1\n",
    "        lower_is_checked = True\n",
    "    if symbols.count(symbol) > 0 and symbols_is_checked is False:\n",
    "        rate += 1\n",
    "        symbols_is_checked = True\n",
    "\n",
    "\n",
    "if rate == 0: # оценка пароля и вывод на экран\n",
    "    print(\"очень слабый\")\n",
    "elif rate == 1:\n",
    "    print(\"слабый\")\n",
    "elif rate == 2:\n",
    "    print(\"средний\")\n",
    "elif rate == 3:\n",
    "    print(\"хороший\")\n",
    "elif rate == 4:\n",
    "    print(\"отличный\")\n",
    "elif rate == 5:\n",
    "    print(\"идеальный\")\n"
   ]
  },
  {
   "cell_type": "code",
   "execution_count": 39,
   "id": "5eeecead",
   "metadata": {},
   "outputs": [
    {
     "name": "stdout",
     "output_type": "stream",
     "text": [
      "1\n",
      "1.1\n",
      "1.2\n",
      "1.3\n",
      "1.4\n",
      "1.5\n",
      "1.6\n",
      "1.7\n",
      "1.8\n",
      "1.9\n",
      "2.0\n",
      "2.1\n",
      "2.2\n",
      "2.3\n",
      "2.4\n",
      "2.5\n",
      "2.6\n",
      "2.7\n",
      "2.8\n",
      "2.9\n",
      "3.0\n",
      "3.1\n",
      "3.2\n",
      "3.3\n",
      "3.4\n",
      "3.5\n",
      "3.6\n",
      "3.7\n",
      "3.8\n",
      "3.9\n",
      "4.0\n",
      "4.1\n",
      "4.2\n",
      "4.3\n",
      "4.4\n",
      "4.5\n",
      "4.6\n",
      "4.7\n",
      "4.8\n",
      "4.9\n"
     ]
    }
   ],
   "source": [
    "#-------------------------------------------TASK 11-------------------------------------------------------------#\n",
    "def frange(start, stop=None, step=1):\n",
    "    if stop is None:\n",
    "        stop = start\n",
    "        start = 0\n",
    "    while round(start, 10) < stop:\n",
    "        yield round(start, 10) # округление для решения проблемы отображения чисел с плавающей точкой\n",
    "        start += step\n",
    "\n",
    "        \n",
    "for x in frange(1, 5, 0.1):\n",
    "    print(x)"
   ]
  },
  {
   "cell_type": "code",
   "execution_count": 4,
   "id": "8a7448e3",
   "metadata": {},
   "outputs": [
    {
     "name": "stdout",
     "output_type": "stream",
     "text": [
      "[0, 1, 2, 3]\n",
      "[2, 3, 4, 5]\n",
      "[4, 5, 6, 7]\n",
      "[6, 7, 8, 9]\n",
      "[8, 9, 10, 11]\n",
      "[10, 11, 12, 13]\n",
      "[12, 13, 14, 15]\n",
      "[14, 15, 16, 17]\n",
      "[16, 17, 18, 19]\n",
      "[18, 19, 20, 21]\n",
      "[20, 21, 22, 23]\n",
      "[22, 23, 24, 25]\n",
      "[24, 25, 26, 27]\n",
      "[26, 27, 28, 29]\n",
      "[28, 29, 30, 31]\n",
      "[30, 31, 32, 33]\n",
      "[32, 33, 34, 35]\n",
      "[34, 35, 36, 37]\n",
      "[36, 37, 38, 39]\n",
      "[38, 39, 40, 41]\n",
      "[40, 41, 42, 43]\n",
      "[42, 43, 44, 45]\n",
      "[44, 45, 46, 47]\n",
      "[46, 47, 48, 49]\n",
      "[48, 49, 50, 51]\n",
      "[50, 51, 52, 53]\n",
      "[52, 53, 54, 55]\n",
      "[54, 55, 56, 57]\n",
      "[56, 57, 58, 59]\n",
      "[58, 59, 60, 61]\n",
      "[60, 61, 62, 63]\n",
      "[62, 63, 64, 65]\n",
      "[64, 65, 66, 67]\n",
      "[66, 67, 68, 69]\n",
      "[68, 69, 70, 71]\n",
      "[70, 71, 72, 73]\n",
      "[72, 73, 74, 75]\n",
      "[74, 75, 76, 77]\n",
      "[76, 77, 78, 79]\n",
      "[78, 79, 80, 81]\n",
      "[80, 81, 82, 83]\n",
      "[82, 83, 84, 85]\n",
      "[84, 85, 86, 87]\n",
      "[86, 87, 88, 89]\n",
      "[88, 89, 90, 91]\n",
      "[90, 91, 92, 93]\n",
      "[92, 93, 94, 95]\n",
      "[94, 95, 96, 97]\n",
      "[96, 97, 98, 99]\n",
      "[98, 99]\n"
     ]
    }
   ],
   "source": [
    "#-------------------------------------------TASK 12-------------------------------------------------------------#\n",
    "def get_frames(signal, size, overlap):\n",
    "    start = 0\n",
    "    while start < len(signal):\n",
    "        yield signal[start:start + size] #вывод части сигнала\n",
    "        start += int(size * (1 - overlap)) # сдвиг старта новой части сигнала на степень перекрытия\n",
    "        \n",
    "        \n",
    "signal = list(range(100))\n",
    "size = 4\n",
    "overlap = 0.5\n",
    "\n",
    "\n",
    "for frame in get_frames(signal, size, overlap):\n",
    "    print(frame)"
   ]
  },
  {
   "cell_type": "code",
   "execution_count": 46,
   "id": "76827cf4",
   "metadata": {},
   "outputs": [
    {
     "name": "stdout",
     "output_type": "stream",
     "text": [
      "1 1 0.1\n",
      "3 4 0.4\n",
      "4 8 0.8\n",
      "2 10 1.0\n"
     ]
    }
   ],
   "source": [
    "#-------------------------------------------TASK 13-------------------------------------------------------------#\n",
    "def extra_enumerate(x):\n",
    "    all_sum = sum(x)\n",
    "    current_sum = 0\n",
    "    index = 0\n",
    "    for num in x:\n",
    "        current_sum += num\n",
    "        yield tuple([index, num, current_sum, current_sum / all_sum])\n",
    "        index += 1\n",
    "\n",
    "x = [1,3,4,2]\n",
    "\n",
    "for i, elem, cum, frac in extra_enumerate(x):\n",
    "    print(elem, cum, frac)\n"
   ]
  },
  {
   "cell_type": "code",
   "execution_count": 19,
   "id": "82c5a4e5",
   "metadata": {},
   "outputs": [
    {
     "name": "stdout",
     "output_type": "stream",
     "text": [
      "['chapter1', 'contents', 'line1']\n"
     ]
    }
   ],
   "source": [
    "#-------------------------------------------TASK 14-------------------------------------------------------------#\n",
    "def non_empty(func):\n",
    "    def del_empty():\n",
    "        input_list = func() # сохранение результата вызова функции в переменную\n",
    "        for elem in input_list: # прохождение списка и поиск пустых ячеек\n",
    "            if elem == '' or elem is None:\n",
    "                input_list.remove(elem) # удаление таковых\n",
    "        return input_list\n",
    "    return del_empty\n",
    "\n",
    "\n",
    "@non_empty\n",
    "def get_pages():\n",
    "    return ['chapter1', '', 'contents', None, 'line1']\n",
    "\n",
    "print(get_pages())"
   ]
  },
  {
   "cell_type": "code",
   "execution_count": 3,
   "id": "1650cd98",
   "metadata": {},
   "outputs": [
    {
     "name": "stdout",
     "output_type": "stream",
     "text": [
      "1\n",
      "1.05\n",
      "2.0025\n",
      "2.097625\n",
      "3.00725625\n"
     ]
    }
   ],
   "source": [
    "#-------------------------------------------TASK 15-------------------------------------------------------------#\n",
    "def pre_process(*, a=0.97):\n",
    "    def my_decorator(func): # передача объекта функции внутрь обертки\n",
    "        def wrapped(s): # передача аргумента функции\n",
    "            for i in range(1, len(s)):\n",
    "                s[i] -= a * s[i - 1] # действи соответственно заданию\n",
    "            func(s)\n",
    "        return wrapped\n",
    "    return my_decorator\n",
    "\n",
    "\n",
    "@pre_process(a=0.95)\n",
    "def decorated_function_with_arguments(s):\n",
    "    for sample in s:\n",
    "        print(sample)\n",
    "\n",
    "\n",
    "decorated_function_with_arguments([1, 2, 3, 4, 5])"
   ]
  },
  {
   "cell_type": "code",
   "execution_count": 14,
   "id": "09a53b60",
   "metadata": {},
   "outputs": [
    {
     "name": "stdout",
     "output_type": "stream",
     "text": [
      "Italy : England in 14/09/2022, 21:47\n",
      "Spain : Chelsea in 28/09/2022, 12:47\n",
      "Lokomotiv : Manchester United in 12/10/2022, 21:00\n",
      "real Madrid : Barcelona in 26/10/2022, 23:45\n",
      "Chelsea : Arsenal in 09/11/2022, 11:12\n",
      "Lokomotiv : Juventus in 23/11/2022, 19:20\n",
      "Spain : Shakhtar in 07/12/2022, 14:13\n",
      "Spain : Arsenal in 21/12/2022, 16:03\n",
      "Arsenal : Shakhtar in 04/01/2023, 20:53\n",
      "Lokomotiv : Zenith in 18/01/2023, 21:07\n",
      "Chelsea : Shakhtar in 01/02/2023, 17:44\n",
      "Juventus : Zenith in 15/02/2023, 13:35\n",
      "Italy : Liverpool in 01/03/2023, 20:43\n",
      "PSG : Barcelona in 15/03/2023, 19:59\n",
      "Dynamo : England in 29/03/2023, 14:25\n",
      "Manchester United : Zenith in 12/04/2023, 19:03\n",
      "Juventus : Manchester United in 26/04/2023, 10:32\n",
      "Liverpool : Dynamo in 10/05/2023, 16:56\n",
      "Liverpool : England in 24/05/2023, 12:40\n",
      "real Madrid : Spartak in 07/06/2023, 12:01\n",
      "Barcelona : Spartak in 21/06/2023, 18:00\n",
      "PSG : Spartak in 05/07/2023, 11:15\n",
      "Italy : Dynamo in 19/07/2023, 21:49\n",
      "real Madrid : PSG in 02/08/2023, 16:52\n"
     ]
    }
   ],
   "source": [
    "#-------------------------------------------TASK 16-------------------------------------------------------------#\n",
    "import random\n",
    "import itertools\n",
    "import datetime\n",
    "\n",
    "teams_list = ['Juventus', 'Barcelona', 'real Madrid', 'Manchester United',\n",
    "              'Chelsea', 'Arsenal', 'Liverpool', 'Zenith',\n",
    "              'Spartak', 'Lokomotiv', 'Shakhtar', 'PSG',\n",
    "              'Dynamo', 'England', 'Spain', 'Italy'] # список всех 16 команд\n",
    "\n",
    "\n",
    "def make_group(teams): # генератор создания команды\n",
    "    for i in range(4):\n",
    "        yield teams.pop(random.randrange(len(teams)))\n",
    "   \n",
    "\n",
    "\n",
    "groups_list = (make_group(teams_list) for i in range(4)) # создание списка команд с помощью генератора списков\n",
    "games_by_groups = []\n",
    "for group in groups_list:\n",
    "    games_by_groups.append(list(itertools.combinations(group, 2))) # имитация проведения игр\n",
    "\n",
    "two_weeks = datetime.timedelta(0) # две недели в формате datetime \n",
    "\n",
    "#print(random.choice(games_by_groups[random.randrange(len(games_by_groups))]))\n",
    "\n",
    "while len(games_by_groups): # вывод игр и даты на экран\n",
    "    rand_group = games_by_groups[random.randrange(len(games_by_groups))]\n",
    "    rand_teams = random.choice(rand_group)\n",
    "    team_A, team_B = rand_teams\n",
    "    rand_group.remove(rand_teams)\n",
    "    if len(rand_group) == 0:\n",
    "        games_by_groups.remove(rand_group)\n",
    "    game_date = datetime.datetime(2022, 9, 14, random.randint(10, 23), random.randint(0, 59)) + two_weeks # определение начала игр по заданию\n",
    "    print(f'{team_A} : {team_B} in {game_date.strftime(\"%d/%m/%Y, %H:%M\")}')\n",
    "    two_weeks += datetime.timedelta(14)\n",
    "\n"
   ]
  }
 ],
 "metadata": {
  "kernelspec": {
   "display_name": "Python 3 (ipykernel)",
   "language": "python",
   "name": "python3"
  },
  "language_info": {
   "codemirror_mode": {
    "name": "ipython",
    "version": 3
   },
   "file_extension": ".py",
   "mimetype": "text/x-python",
   "name": "python",
   "nbconvert_exporter": "python",
   "pygments_lexer": "ipython3",
   "version": "3.9.13"
  }
 },
 "nbformat": 4,
 "nbformat_minor": 5
}
