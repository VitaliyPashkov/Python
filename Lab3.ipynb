{
 "cells": [
  {
   "cell_type": "code",
   "execution_count": 7,
   "id": "8c17c745",
   "metadata": {},
   "outputs": [
    {
     "name": "stdout",
     "output_type": "stream",
     "text": [
      "-7/2\n",
      "2/7\n",
      "49/4\n",
      "3.5\n",
      "3\n"
     ]
    }
   ],
   "source": [
    "#task 1\n",
    "class Fraction(object):\n",
    "    def __init__(self, num, den):\n",
    "        self.__num = num\n",
    "        self.__den = den\n",
    "        self.reduce()\n",
    "    def __str__(self):\n",
    "        return \"%d/%d\" % (self.__num, self.__den)\n",
    "    def __neg__(self):\n",
    "        return Fraction(-self.__num, self.__den)\n",
    "    def __pow__(self, power):\n",
    "        return Fraction(self.__num**power, self.__den**power)\n",
    "    def __invert__(self):\n",
    "        return Fraction(self.__den, self.__num)\n",
    "    def __float__(self):\n",
    "        return float(self.__num) / float(self.__den)\n",
    "    def __int__(self):\n",
    "        return int(self.__num / self.__den)\n",
    "    def reduce(self):\n",
    "        g = Fraction.gcd(self.__num, self.__den)\n",
    "        self.__num /= g\n",
    "        self.__den /= g\n",
    "    @staticmethod\n",
    "    def gcd(n, m):\n",
    "        if m == 0:\n",
    "            return n\n",
    "        else:\n",
    "            return Fraction.gcd(m, n % m)\n",
    "        \n",
    "frac = Fraction(7, 2)\n",
    "print(-frac) # выводит -7/2\n",
    "print(~frac) # выводит 2/7\n",
    "print(frac**2) # выводит 49/4\n",
    "print(float(frac)) # выводит 3.5\n",
    "print(int(frac)) # выводит 3"
   ]
  },
  {
   "cell_type": "code",
   "execution_count": 2,
   "id": "3875380d",
   "metadata": {},
   "outputs": [
    {
     "name": "stdout",
     "output_type": "stream",
     "text": [
      "[1] Leo Tolstoi 'War and Peace'\n",
      "['War', 'Peace']\n",
      "[2] Charles Dickens 'David Copperfield'\n",
      "['David', 'Copperfield']\n"
     ]
    }
   ],
   "source": [
    "#task 2\n",
    "class Book:\n",
    "    code = 1\n",
    "\n",
    "    def __init__(self, author, title):\n",
    "        if not title:\n",
    "            raise ValueError('Title cannot be empty')\n",
    "        self.author = author\n",
    "        self.title = title\n",
    "        self.code = Book.code\n",
    "        Book.code += 1\n",
    "\n",
    "    def tag(self):\n",
    "        return [word for word in self.title.split() if word.istitle()]\n",
    "\n",
    "    def __str__(self):\n",
    "        return f\"[{self.code}] {self.author} '{self.title}'\"\n",
    "\n",
    "\n",
    "class Library:\n",
    "    def __init__(self, number, address):\n",
    "        self.number = number\n",
    "        self.address = address\n",
    "        self.books = []\n",
    "\n",
    "    def __iadd__(self, book):\n",
    "        self.books.append(book)\n",
    "        return self\n",
    "\n",
    "    def __iter__(self):\n",
    "        return iter(self.books)\n",
    "\n",
    "\n",
    "lib = Library(1, '51 Some str., NY')\n",
    "lib += Book('Leo Tolstoi', 'War and Peace')\n",
    "lib += Book('Charles Dickens', 'David Copperfield')\n",
    "\n",
    "for book in lib:\n",
    "    print(book)\n",
    "    print(book.tag())"
   ]
  },
  {
   "cell_type": "code",
   "execution_count": 9,
   "id": "7affb076",
   "metadata": {},
   "outputs": [
    {
     "ename": "SyntaxError",
     "evalue": "invalid syntax (1782498364.py, line 2)",
     "output_type": "error",
     "traceback": [
      "\u001b[1;36m  File \u001b[1;32m\"C:\\Users\\vital\\AppData\\Local\\Temp\\ipykernel_1612\\1782498364.py\"\u001b[1;36m, line \u001b[1;32m2\u001b[0m\n\u001b[1;33m    pip install pyqt6\u001b[0m\n\u001b[1;37m        ^\u001b[0m\n\u001b[1;31mSyntaxError\u001b[0m\u001b[1;31m:\u001b[0m invalid syntax\n"
     ]
    }
   ],
   "source": [
    "#task 3\n",
    "pip install pyqt6\n",
    "# и на будущее\n",
    "pip install pyqt-tools\n",
    "from PyQt6.QtWidgets import QApplication, QMainWindow, QLabel, QLineEdit, QVBoxLayout, QWidget\n",
    "\n",
    "import sys\n",
    "\n",
    "\n",
    "class MainWindow(QMainWindow):\n",
    "    def __init__(self):\n",
    "        super().__init__()\n",
    "\n",
    "        self.setWindowTitle(\"My App\")\n",
    "\n",
    "        self.label = QLabel()\n",
    "\n",
    "        self.input = QLineEdit()\n",
    "        self.input.textChanged.connect(self.label.setText)\n",
    "\n",
    "        layout = QVBoxLayout()\n",
    "        layout.addWidget(self.input)\n",
    "        layout.addWidget(self.label)\n",
    "\n",
    "        container = QWidget()\n",
    "        container.setLayout(layout)\n",
    "\n",
    "        # Устанавливаем центральный виджет Window.\n",
    "        self.setCentralWidget(container)\n",
    "\n",
    "\n",
    "app = QApplication(sys.argv)\n",
    "\n",
    "window = MainWindow()\n",
    "window.show()\n",
    "\n",
    "app.exec()"
   ]
  },
  {
   "cell_type": "code",
   "execution_count": 33,
   "id": "0e95cae7",
   "metadata": {},
   "outputs": [
    {
     "name": "stdout",
     "output_type": "stream",
     "text": [
      "password abcdef12345\n"
     ]
    }
   ],
   "source": [
    "class StringFormatter:\n",
    "    def __init__(self, text):\n",
    "        self.text = text\n",
    "    \n",
    "    def remove_short_words(self, n):\n",
    "        words = self.text.split()\n",
    "        filtered_words = [word for word in words if len(word) >= n]\n",
    "        self.text = ' '.join(filtered_words)\n",
    "    \n",
    "    def replace_digits(self):\n",
    "        self.text = ''.join(['*' if char.isdigit() else char for char in self.text])\n",
    "    \n",
    "    def insert_spaces(self):\n",
    "        self.text = ' '.join(list(self.text))\n",
    "    \n",
    "    def sort_by_length(self):\n",
    "        words = self.text.split()\n",
    "        sorted_words = sorted(words, key=lambda x: len(x))\n",
    "        self.text = ' '.join(sorted_words)\n",
    "    \n",
    "    def sort_lexicographically(self):\n",
    "        words = self.text.split()\n",
    "        sorted_words = sorted(words)\n",
    "        self.text = ' '.join(sorted_words)\n",
    "        \n",
    "# пример использования\n",
    "text = \"your password abcdef12345 is not safe\"\n",
    "formatter = StringFormatter(text)\n",
    "formatter.remove_short_words(8)\n",
    "#formatter.sort_lexicographically()\n",
    "#formatter.sort_by_length()\n",
    "#formatter.replace_digits()\n",
    "#formatter.insert_spaces()\n",
    "\n",
    "\n",
    "print(formatter.text) # a b c d e f * * * * * p a s s w o r d"
   ]
  },
  {
   "cell_type": "code",
   "execution_count": null,
   "id": "9b0b3c7c",
   "metadata": {},
   "outputs": [],
   "source": [
    "# task 5"
   ]
  }
 ],
 "metadata": {
  "kernelspec": {
   "display_name": "Python 3 (ipykernel)",
   "language": "python",
   "name": "python3"
  },
  "language_info": {
   "codemirror_mode": {
    "name": "ipython",
    "version": 3
   },
   "file_extension": ".py",
   "mimetype": "text/x-python",
   "name": "python",
   "nbconvert_exporter": "python",
   "pygments_lexer": "ipython3",
   "version": "3.9.13"
  }
 },
 "nbformat": 4,
 "nbformat_minor": 5
}
